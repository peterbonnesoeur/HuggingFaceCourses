{
 "cells": [
  {
   "cell_type": "markdown",
   "id": "8428cd02-bbbe-454e-b656-fb1a70020e9e",
   "metadata": {},
   "source": [
    "## Tokenizers"
   ]
  },
  {
   "cell_type": "markdown",
   "id": "3e1062b7-a39a-4f93-a714-1de852af3ccd",
   "metadata": {},
   "source": [
    "Tokenizers are one of the core components of the NLP pipeline. They serve one purpose: to translate text into data that can be processed by the model. Models can only process numbers, so tokenizers need to convert our text inputs to numerical data. In this section, we’ll explore exactly what happens in the tokenization pipeline.\n",
    "\n"
   ]
  },
  {
   "cell_type": "markdown",
   "id": "0919d60a-7e36-4e0a-bfa6-52be41a160df",
   "metadata": {},
   "source": [
    "In NLP tasks, the data that is generally processed is raw text. Here’s an example of such text:\n",
    "\n"
   ]
  },
  {
   "cell_type": "markdown",
   "id": "563db2ae-3298-4e71-b434-bc425fa5f187",
   "metadata": {},
   "source": [
    "However, models can only process numbers, so we need to find a way to convert the raw text to numbers. That’s what the tokenizers do, and there are a lot of ways to go about this. The goal is to find the most meaningful representation — that is, the one that makes the most sense to the model — and, if possible, the smallest representation.\n",
    "\n"
   ]
  },
  {
   "cell_type": "markdown",
   "id": "dc6ff02c-7aa4-4740-aa10-77ec52f5da46",
   "metadata": {},
   "source": [
    "Let’s take a look at some examples of tokenization algorithms, and try to answer some of the questions you may have about tokenization.\n",
    "\n"
   ]
  },
  {
   "cell_type": "markdown",
   "id": "7d75e1df-71a4-4609-9428-14ee249644bd",
   "metadata": {},
   "source": [
    "## Word-based\n"
   ]
  },
  {
   "cell_type": "markdown",
   "id": "de29018e-4a78-47df-978f-e3fbbe078d1b",
   "metadata": {},
   "source": [
    "The first type of tokenizer that comes to mind is word-based. It’s generally very easy to set up and use with only a few rules, and it often yields decent results. For example, in the image below, the goal is to split the raw text into words and find a numerical representation for each of them:\n",
    "\n"
   ]
  },
  {
   "cell_type": "markdown",
   "id": "1eebd39e-ab35-4059-b8f2-504fbe439379",
   "metadata": {},
   "source": [
    "There are different ways to split the text. For example, we could could use whitespace to tokenize the text into words by applying Python’s split function:\n",
    "\n"
   ]
  },
  {
   "cell_type": "code",
   "execution_count": 1,
   "id": "d333a3ca-7f90-45e4-9e4b-7db92afd7f7d",
   "metadata": {},
   "outputs": [
    {
     "name": "stdout",
     "output_type": "stream",
     "text": [
      "['Jim', 'Henson', 'was', 'a', 'puppeteer']\n"
     ]
    }
   ],
   "source": [
    "tokenized_text = \"Jim Henson was a puppeteer\".split()\n",
    "print(tokenized_text)\n"
   ]
  },
  {
   "cell_type": "markdown",
   "id": "a73ded3a-d914-4ecf-9fec-5b49d8d4cc7a",
   "metadata": {},
   "source": [
    "There are also variations of word tokenizers that have extra rules for punctuation. With this kind of tokenizer, we can end up with some pretty large “vocabularies,” where a vocabulary is defined by the total number of independent tokens that we have in our corpus.\n",
    "\n",
    "Each word gets assigned an ID, starting from 0 and going up to the size of the vocabulary. The model uses these IDs to identify each word.\n",
    "\n",
    "If we want to completely cover a language with a word-based tokenizer, we’ll need to have an identifier for each word in the language, which will generate a huge amount of tokens. For example, there are over 500,000 words in the English language, so to build a map from each word to an input ID we’d need to keep track of that many IDs. Furthermore, words like “dog” are represented differently from words like “dogs”, and the model will initially have no way of knowing that “dog” and “dogs” are similar: it will identify the two words as unrelated. The same applies to other similar words, like “run” and “running”, which the model will not see as being similar initially.\n",
    "\n",
    "Finally, we need a custom token to represent words that are not in our vocabulary. This is known as the “unknown” token, often represented as ”[UNK]” or ””. It’s generally a bad sign if you see that the tokenizer is producing a lot of these tokens, as it wasn’t able to retrieve a sensible representation of a word and you’re losing information along the way. The goal when crafting the vocabulary is to do it in such a way that the tokenizer tokenizes as few words as possible into the unknown token.\n",
    "\n",
    "One way to reduce the amount of unknown tokens is to go one level deeper, using a character-based tokenizer."
   ]
  },
  {
   "cell_type": "markdown",
   "id": "21507fa5-0e8a-412d-adf2-0f0e1b8500be",
   "metadata": {},
   "source": [
    "## Character-based\n"
   ]
  },
  {
   "cell_type": "markdown",
   "id": "eeb0f502-c7d5-463d-b0b1-4af8fac6225f",
   "metadata": {},
   "source": [
    "Character-based tokenizers split the text into characters, rather than words. This has two primary benefits:\n",
    "\n",
    "* The vocabulary is much smaller.\n",
    "* There are much fewer out-of-vocabulary (unknown) tokens, since every word can be built from characters.\n",
    "\n",
    "But here too some questions arise concerning spaces and punctuation:"
   ]
  },
  {
   "cell_type": "markdown",
   "id": "0a4f0bdf-bb49-4ea9-8ea4-ae986183972b",
   "metadata": {},
   "source": [
    "This approach isn’t perfect either. Since the representation is now based on characters rather than words, one could argue that, intuitively, it’s less meaningful: each character doesn’t mean a lot on its own, whereas that is the case with words. However, this again differs according to the language; in Chinese, for example, each character carries more information than a character in a Latin language.\n",
    "\n",
    "Another thing to consider is that we’ll end up with a very large amount of tokens to be processed by our model: whereas a word would only be a single token with a word-based tokenizer, it can easily turn into 10 or more tokens when converted into characters.\n",
    "\n",
    "To get the best of both worlds, we can use a third technique that combines the two approaches: subword tokenization."
   ]
  },
  {
   "cell_type": "markdown",
   "id": "49eb0c4c-7b7b-483b-8d66-2b24efc68540",
   "metadata": {},
   "source": [
    "## Subword tokenization\n"
   ]
  },
  {
   "cell_type": "markdown",
   "id": "9783d343-9b0f-4714-89de-e0f04b6e40e7",
   "metadata": {},
   "source": [
    "Subword tokenization algorithms rely on the principle that frequently used words should not be split into smaller subwords, but rare words should be decomposed into meaningful subwords.\n",
    "\n",
    "For instance, “annoyingly” might be considered a rare word and could be decomposed into “annoying” and “ly”. These are both likely to appear more frequently as standalone subwords, while at the same time the meaning of “annoyingly” is kept by the composite meaning of “annoying” and “ly”.\n",
    "\n",
    "Here is an example showing how a subword tokenization algorithm would tokenize the sequence “Let’s do tokenization!“:"
   ]
  },
  {
   "cell_type": "markdown",
   "id": "d4630391-0f21-4aa6-b985-128208afe5d4",
   "metadata": {},
   "source": [
    "These subwords end up providing a lot of semantic meaning: for instance, in the example above “tokenization” was split into “token” and “ization”, two tokens that have a semantic meaning while being space-efficient (only two tokens are needed to represent a long word). This allows us to have relatively good coverage with small vocabularies, and close to no unknown tokens.\n",
    "\n",
    "This approach is especially useful in agglutinative languages such as Turkish, where you can form (almost) arbitrarily long complex words by stringing together subwords.\n",
    "\n"
   ]
  },
  {
   "cell_type": "markdown",
   "id": "b70357f2-bf63-4483-ac73-48cefa77dada",
   "metadata": {},
   "source": [
    "## And more!\n"
   ]
  },
  {
   "cell_type": "markdown",
   "id": "8d7ec016-b37b-41df-863a-8dfe7f7cd241",
   "metadata": {},
   "source": [
    "Unsurprisingly, there are many more techniques out there. To name a few:\n",
    "\n",
    "* Byte-level BPE, as used in GPT-2\n",
    "* WordPiece, as used in BERT\n",
    "* SentencePiece or Unigram, as used in several multilingual models\n",
    "\n",
    "You should now have sufficient knowledge of how tokenizers work to get started with the API.\n",
    "\n"
   ]
  },
  {
   "cell_type": "markdown",
   "id": "f3515611-0b90-4748-ba8e-9429617f53af",
   "metadata": {},
   "source": [
    "## Loading and saving\n"
   ]
  },
  {
   "cell_type": "markdown",
   "id": "270cf9b9-f38e-4b8a-adf1-619944ccd163",
   "metadata": {},
   "source": [
    "Loading and saving tokenizers is as simple as it is with models. Actually, it’s based on the same two methods: from_pretrained and save_pretrained. These methods will load or save the algorithm used by the tokenizer (a bit like the architecture of the model) as well as its vocabulary (a bit like the weights of the model).\n",
    "\n",
    "Loading the BERT tokenizer trained with the same checkpoint as BERT is done the same way as loading the model, except we use the BertTokenizer class:\n",
    "\n"
   ]
  },
  {
   "cell_type": "code",
   "execution_count": 2,
   "id": "63a86176-d93f-4999-adef-7923a4eb5ee7",
   "metadata": {},
   "outputs": [
    {
     "data": {
      "application/vnd.jupyter.widget-view+json": {
       "model_id": "b811402cb12f430e8b6ece6bb52eec57",
       "version_major": 2,
       "version_minor": 0
      },
      "text/plain": [
       "Downloading:   0%|          | 0.00/213k [00:00<?, ?B/s]"
      ]
     },
     "metadata": {},
     "output_type": "display_data"
    },
    {
     "data": {
      "application/vnd.jupyter.widget-view+json": {
       "model_id": "e737a0e9a66146fc8317ce85f378eae9",
       "version_major": 2,
       "version_minor": 0
      },
      "text/plain": [
       "Downloading:   0%|          | 0.00/29.0 [00:00<?, ?B/s]"
      ]
     },
     "metadata": {},
     "output_type": "display_data"
    },
    {
     "data": {
      "application/vnd.jupyter.widget-view+json": {
       "model_id": "e49d53ef71594610ae1957ddff505d39",
       "version_major": 2,
       "version_minor": 0
      },
      "text/plain": [
       "Downloading:   0%|          | 0.00/436k [00:00<?, ?B/s]"
      ]
     },
     "metadata": {},
     "output_type": "display_data"
    }
   ],
   "source": [
    "from transformers import BertTokenizer\n",
    "\n",
    "tokenizer = BertTokenizer.from_pretrained(\"bert-base-cased\")"
   ]
  },
  {
   "cell_type": "markdown",
   "id": "9db1b9d1-e9a0-4e5e-b179-26c8e78f2d44",
   "metadata": {},
   "source": [
    "Similar to AutoModel, the AutoTokenizer class will grab the proper tokenizer class in the library based on the checkpoint name, and can be used directly with any checkpoint:"
   ]
  },
  {
   "cell_type": "code",
   "execution_count": 3,
   "id": "bf64a7ca-5178-4a94-9549-833f2b80b478",
   "metadata": {},
   "outputs": [],
   "source": [
    "from transformers import AutoTokenizer\n",
    "\n",
    "tokenizer = AutoTokenizer.from_pretrained(\"bert-base-cased\")\n"
   ]
  },
  {
   "cell_type": "markdown",
   "id": "33dffc11-04a6-40d3-9d6c-61bbb2627420",
   "metadata": {},
   "source": [
    "We can now use the tokenizer as shown in the previous section:\n",
    "\n"
   ]
  },
  {
   "cell_type": "code",
   "execution_count": 4,
   "id": "e1760d8e-6184-42f3-a94b-54bd56185eff",
   "metadata": {},
   "outputs": [
    {
     "data": {
      "text/plain": [
       "{'input_ids': [101, 7993, 170, 13809, 23763, 2443, 1110, 3014, 102], 'token_type_ids': [0, 0, 0, 0, 0, 0, 0, 0, 0], 'attention_mask': [1, 1, 1, 1, 1, 1, 1, 1, 1]}"
      ]
     },
     "execution_count": 4,
     "metadata": {},
     "output_type": "execute_result"
    }
   ],
   "source": [
    "tokenizer(\"Using a Transformer network is simple\")"
   ]
  },
  {
   "cell_type": "markdown",
   "id": "95589a4a-8e10-40a7-a487-7942701b20f4",
   "metadata": {},
   "source": [
    "Saving a tokenizer is identical to saving a model:\n",
    "\n"
   ]
  },
  {
   "cell_type": "code",
   "execution_count": 5,
   "id": "fd2ba411-5280-466d-8cd3-2c1debfd6af5",
   "metadata": {},
   "outputs": [
    {
     "data": {
      "text/plain": [
       "('directory_on_my_computer_tokenizer/tokenizer_config.json',\n",
       " 'directory_on_my_computer_tokenizer/special_tokens_map.json',\n",
       " 'directory_on_my_computer_tokenizer/vocab.txt',\n",
       " 'directory_on_my_computer_tokenizer/added_tokens.json',\n",
       " 'directory_on_my_computer_tokenizer/tokenizer.json')"
      ]
     },
     "execution_count": 5,
     "metadata": {},
     "output_type": "execute_result"
    }
   ],
   "source": [
    "tokenizer.save_pretrained(\"directory_on_my_computer_tokenizer\")\n"
   ]
  },
  {
   "cell_type": "markdown",
   "id": "7974dd51-d30e-4b2f-98e7-c9e219a1d627",
   "metadata": {},
   "source": [
    "We’ll talk more about token_type_ids in Chapter 3, and we’ll explain the attention_mask key a little later. First, let’s see how the input_ids are generated. To do this, we’ll need to look at the intermediate methods of the tokenizer.\n",
    "\n"
   ]
  },
  {
   "cell_type": "markdown",
   "id": "336e6116-815b-4198-a383-58e9b0974dca",
   "metadata": {},
   "source": [
    "## Encoding\n"
   ]
  },
  {
   "cell_type": "markdown",
   "id": "35f42b66-42b9-4b02-ba10-8b750a7a028d",
   "metadata": {},
   "source": [
    "Translating text to numbers is known as encoding. Encoding is done in a two-step process: the tokenization, followed by the conversion to input IDs.\n",
    "\n",
    "As we’ve seen, the first step is to split the text into words (or parts of words, punctuation symbols, etc.), usually called tokens. There are multiple rules that can govern that process, which is why we need to instantiate the tokenizer using the name of the model, to make sure we use the same rules that were used when the model was pretrained.\n",
    "\n",
    "The second step is to convert those tokens into numbers, so we can build a tensor out of them and feed them to the model. To do this, the tokenizer has a vocabulary, which is the part we download when we instantiate it with the from_pretrained method. Again, we need to use the same vocabulary used when the model was pretrained.\n",
    "\n",
    "To get a better understanding of the two steps, we’ll explore them separately. Note that we will use some methods that perform parts of the tokenization pipeline separately to show you the intermediate results of those steps, but in practice, you should call the tokenizer directly on your inputs (as shown in the section 2)."
   ]
  },
  {
   "cell_type": "markdown",
   "id": "ef049a30-7a3d-40de-9733-e4e92f6ae78c",
   "metadata": {},
   "source": [
    "## Tokenization"
   ]
  },
  {
   "cell_type": "markdown",
   "id": "90aa2858-c41c-4950-b850-3f3e2c28fd0f",
   "metadata": {},
   "source": [
    "The tokenization process is done by the tokenize method of the tokenizer:\n",
    "\n"
   ]
  },
  {
   "cell_type": "code",
   "execution_count": 6,
   "id": "d037a670-70fb-4062-ba12-01b24cd71ae3",
   "metadata": {},
   "outputs": [
    {
     "name": "stdout",
     "output_type": "stream",
     "text": [
      "['Using', 'a', 'Trans', '##former', 'network', 'is', 'simple']\n"
     ]
    }
   ],
   "source": [
    "from transformers import AutoTokenizer\n",
    "tokenizer = AutoTokenizer.from_pretrained(\"bert-base-cased\")\n",
    "\n",
    "sequence = \"Using a Transformer network is simple\"\n",
    "tokens = tokenizer.tokenize(sequence)\n",
    "\n",
    "print(tokens)"
   ]
  },
  {
   "cell_type": "markdown",
   "id": "d957a0ae-8082-4dc3-a876-32595044f5a1",
   "metadata": {},
   "source": [
    "This tokenizer is a subword tokenizer: it splits the words until it obtains tokens that can be represented by its vocabulary. That’s the case here with transformer, which is split into two tokens: transform and ##er.\n",
    "\n"
   ]
  },
  {
   "cell_type": "markdown",
   "id": "94f399df-838d-4ea2-b01d-9d47e6be9a6d",
   "metadata": {},
   "source": [
    "## From tokens to input IDs\n"
   ]
  },
  {
   "cell_type": "markdown",
   "id": "17e9719b-b485-4a0a-afbb-5f67d63d3b5f",
   "metadata": {},
   "source": [
    "The conversion to input IDs is handled by the convert_tokens_to_ids tokenizer method:\n",
    "\n"
   ]
  },
  {
   "cell_type": "code",
   "execution_count": 7,
   "id": "b80afb09-f14e-4f88-9bed-00044e8f66e7",
   "metadata": {},
   "outputs": [
    {
     "name": "stdout",
     "output_type": "stream",
     "text": [
      "[7993, 170, 13809, 23763, 2443, 1110, 3014]\n"
     ]
    }
   ],
   "source": [
    "ids = tokenizer.convert_tokens_to_ids(tokens)\n",
    "\n",
    "print(ids)"
   ]
  },
  {
   "cell_type": "markdown",
   "id": "c94e2912-fa44-427d-8cac-b1abe651edac",
   "metadata": {},
   "source": [
    "These outputs, once converted to the appropriate framework tensor, can then be used as inputs to a model as seen earlier in this chapter.\n",
    "\n"
   ]
  },
  {
   "cell_type": "markdown",
   "id": "e232e263-d5cb-4038-a28d-0366ebda1fd9",
   "metadata": {},
   "source": [
    "## Decoding"
   ]
  },
  {
   "cell_type": "markdown",
   "id": "084df282-1584-487b-90a3-8f1467efed17",
   "metadata": {},
   "source": [
    "Decoding is going the other way around: from vocabulary indices, we want to get a string. This can be done with the decode method as follows:\n",
    "\n"
   ]
  },
  {
   "cell_type": "code",
   "execution_count": 8,
   "id": "0a706bfc-e5e8-4214-ae8a-68405e4c9353",
   "metadata": {},
   "outputs": [
    {
     "name": "stdout",
     "output_type": "stream",
     "text": [
      "Using a transformer network is simple\n"
     ]
    }
   ],
   "source": [
    "decoded_string = tokenizer.decode([7993, 170, 11303, 1200, 2443, 1110, 3014])\n",
    "print(decoded_string)"
   ]
  },
  {
   "cell_type": "markdown",
   "id": "5371fba0-6c4a-46be-996d-7c06b212a14f",
   "metadata": {},
   "source": [
    "Note that the decode method not only converts the indices back to tokens, but also groups together the tokens that were part of the same words to produce a readable sentence. This behavior will be extremely useful when we use models that predict new text (either text generated from a prompt, or for sequence-to-sequence problems like translation or summarization).\n",
    "\n",
    "By now you should understand the atomic operations a tokenizer can handle: tokenization, conversion to IDs, and converting IDs back to a string. However, we’ve just scraped the tip of the iceberg. In the following section, we’ll take our approach to its limits and take a look at how to overcome them."
   ]
  },
  {
   "cell_type": "code",
   "execution_count": null,
   "id": "32d3b7df-889b-4594-a3d3-7e589f75e48a",
   "metadata": {},
   "outputs": [],
   "source": []
  }
 ],
 "metadata": {
  "kernelspec": {
   "display_name": "Python 3",
   "language": "python",
   "name": "python3"
  },
  "language_info": {
   "codemirror_mode": {
    "name": "ipython",
    "version": 3
   },
   "file_extension": ".py",
   "mimetype": "text/x-python",
   "name": "python",
   "nbconvert_exporter": "python",
   "pygments_lexer": "ipython3",
   "version": "3.8.5"
  }
 },
 "nbformat": 4,
 "nbformat_minor": 5
}
