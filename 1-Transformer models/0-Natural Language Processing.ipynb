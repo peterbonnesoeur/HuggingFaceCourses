{
 "cells": [
  {
   "cell_type": "markdown",
   "id": "474c34e1-e6d5-4a1a-9b2d-6b9de8c77a45",
   "metadata": {},
   "source": [
    "# Natural Language Processing\n"
   ]
  },
  {
   "cell_type": "markdown",
   "id": "5fd4830c-fb91-44c3-8c19-91f658408511",
   "metadata": {},
   "source": [
    "Before jumping into Transformer models, let’s do a quick overview of what natural language processing is and why we care about it.\n",
    "\n"
   ]
  },
  {
   "cell_type": "markdown",
   "id": "4a86555e-4353-4905-9651-8fbc6793987b",
   "metadata": {},
   "source": [
    "## What is NLP?\n"
   ]
  },
  {
   "cell_type": "markdown",
   "id": "1981f295-df7b-4efc-b340-3bb55c599287",
   "metadata": {},
   "source": [
    "NLP is a field of linguistics and machine learning focused on understanding everything related to human language. The aim of NLP tasks is not only to understand single words individually, but to be able to understand the context of those words.\n",
    "\n",
    "The following is a list of common NLP tasks, with some examples of each:\n",
    "\n",
    "* **Classifying whole sentences**: Getting the sentiment of a review, detecting if an email is spam, determining if a sentence is grammatically correct or whether two sentences are logically related or not\n",
    "* **Classifying each word in a sentence**: Identifying the grammatical components of a sentence (noun, verb, adjective), or the named entities (person, location, organization)\n",
    "* **Generating text content**: Completing a prompt with auto-generated text, filling in the blanks in a text with masked words\n",
    "* **Extracting an answer from a text**: Given a question and a context, extracting the answer to the question based on the information provided in the context\n",
    "* **Generating a new sentence from an input text**: Translating a text into another language, summarizing a text\n",
    "\n",
    "NLP isn’t limited to written text though. It also tackles complex challenges in speech recognition and computer vision, such as generating a transcript of an audio sample or a description of an image."
   ]
  },
  {
   "cell_type": "markdown",
   "id": "ae4b8e21-9fc7-40b5-808d-8dfba187b311",
   "metadata": {},
   "source": [
    "## Why is it challenging?\n"
   ]
  },
  {
   "cell_type": "markdown",
   "id": "f526c03e-e27b-4c1a-8532-3873541c67d2",
   "metadata": {},
   "source": [
    "Computers don’t process information in the same way as humans. For example, when we read the sentence “I am hungry,” we can easily understand its meaning. Similarly, given two sentences such as “I am hungry” and “I am sad,” we’re able to easily determine how similar they are. For machine learning (ML) models, such tasks are more difficult. The text needs to be processed in a way that enables the model to learn from it. And because language is complex, we need to think carefully about how this processing must be done. There has been a lot of research done on how to represent text, and we will look at some methods in the next chapter."
   ]
  },
  {
   "cell_type": "code",
   "execution_count": null,
   "id": "e8a9e3f0-3efd-4d80-ae86-85a4749441f6",
   "metadata": {},
   "outputs": [],
   "source": []
  }
 ],
 "metadata": {
  "kernelspec": {
   "display_name": "Python 3",
   "language": "python",
   "name": "python3"
  },
  "language_info": {
   "codemirror_mode": {
    "name": "ipython",
    "version": 3
   },
   "file_extension": ".py",
   "mimetype": "text/x-python",
   "name": "python",
   "nbconvert_exporter": "python",
   "pygments_lexer": "ipython3",
   "version": "3.8.5"
  }
 },
 "nbformat": 4,
 "nbformat_minor": 5
}
