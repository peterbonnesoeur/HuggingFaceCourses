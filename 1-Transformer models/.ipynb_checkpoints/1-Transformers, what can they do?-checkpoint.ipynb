{
 "cells": [
  {
   "cell_type": "markdown",
   "id": "261a94dd-4cd0-4efb-95db-c6c3c71e3a65",
   "metadata": {},
   "source": [
    "# Transformers, what can they do?\n"
   ]
  },
  {
   "cell_type": "markdown",
   "id": "ca514917-924e-40a7-a90d-caea53a95e97",
   "metadata": {},
   "source": [
    "## Working with pipelines\n"
   ]
  },
  {
   "cell_type": "markdown",
   "id": "81d0e0f1-202b-4b54-ab7c-ed51a256cafe",
   "metadata": {},
   "source": [
    "The most basic object in the 🤗 Transformers library is the pipeline. It connects a model with its necessary preprocessing and postprocessing steps, allowing us to directly input any text and get an intelligible answer:\n",
    "\n"
   ]
  },
  {
   "cell_type": "code",
   "execution_count": 3,
   "id": "4e873e6e-d781-4954-948a-0080282e2c29",
   "metadata": {},
   "outputs": [
    {
     "data": {
      "text/plain": [
       "[{'label': 'POSITIVE', 'score': 0.9598047137260437}]"
      ]
     },
     "execution_count": 3,
     "metadata": {},
     "output_type": "execute_result"
    }
   ],
   "source": [
    "from transformers import pipeline\n",
    "\n",
    "classifier = pipeline(\"sentiment-analysis\")\n",
    "classifier(\"I've been waiting for a HuggingFace course my whole life.\")"
   ]
  },
  {
   "cell_type": "markdown",
   "id": "0ecaa2a3-251c-4833-a049-060973e16a4b",
   "metadata": {},
   "source": [
    "We can even pass several sentences!\n",
    "\n"
   ]
  },
  {
   "cell_type": "code",
   "execution_count": 4,
   "id": "b2eb76c0-1cd7-4608-bdfc-0202194fe072",
   "metadata": {},
   "outputs": [
    {
     "data": {
      "text/plain": [
       "[{'label': 'POSITIVE', 'score': 0.9598047137260437},\n",
       " {'label': 'NEGATIVE', 'score': 0.9994558095932007}]"
      ]
     },
     "execution_count": 4,
     "metadata": {},
     "output_type": "execute_result"
    }
   ],
   "source": [
    "classifier([\n",
    "    \"I've been waiting for a HuggingFace course my whole life.\", \n",
    "    \"I hate this so much!\"\n",
    "])"
   ]
  },
  {
   "cell_type": "markdown",
   "id": "76f48b77-9101-4be6-912d-c868c555c224",
   "metadata": {},
   "source": [
    "\n",
    "By default, this pipeline selects a particular pretrained model that has been fine-tuned for sentiment analysis in English. The model is downloaded and cached when you create the classifier object. If you rerun the command, the cached model will be used instead and there is no need to download the model again.\n",
    "\n",
    "There are three main steps involved when you pass some text to a pipeline:\n",
    "\n",
    "1. The text is preprocessed into a format the model can understand.\n",
    "2. The preprocessed inputs are passed to the model.\n",
    "3. The predictions of the model are post-processed, so you can make sense of them.\n",
    "\n",
    "Some of the currently available pipelines are:\n",
    "\n",
    "* feature-extraction (get the vector representation of a text)\n",
    "* fill-mask\n",
    "* ner (named entity recognition)\n",
    "* question-answering\n",
    "* sentiment-analysis\n",
    "* summarization\n",
    "* text-generation\n",
    "* translation\n",
    "* zero-shot-classification\n",
    "\n",
    "Let’s have a look at a few of these!"
   ]
  },
  {
   "cell_type": "markdown",
   "id": "c18148c0-78d5-414a-ba0b-406d0fbefaff",
   "metadata": {},
   "source": [
    "## Zero-shot classification\n"
   ]
  },
  {
   "cell_type": "markdown",
   "id": "7fe23ea3-32eb-4cb7-8f1a-7d09893bb945",
   "metadata": {},
   "source": [
    "We’ll start by tackling a more challenging task where we need to classify texts that haven’t been labelled. This is a common scenario in real-world projects because annotating text is usually time-consuming and requires domain expertise. For this use case, the **zero-shot-classification** pipeline is very powerful: it allows you to specify which labels to use for the classification, so you don’t have to rely on the labels of the pretrained model. You’ve already seen how the model can classify a sentence as positive or negative using those two labels — but it can also classify the text using any other set of labels you like."
   ]
  },
  {
   "cell_type": "code",
   "execution_count": 5,
   "id": "eb5a4c01-19ed-42a2-a5b3-b183c345db80",
   "metadata": {},
   "outputs": [
    {
     "data": {
      "text/plain": [
       "{'sequence': 'This is a course about the Transformers library',\n",
       " 'labels': ['education', 'business', 'politics'],\n",
       " 'scores': [0.8445960283279419, 0.11197648197412491, 0.04342753812670708]}"
      ]
     },
     "execution_count": 5,
     "metadata": {},
     "output_type": "execute_result"
    }
   ],
   "source": [
    "from transformers import pipeline\n",
    "\n",
    "classifier = pipeline(\"zero-shot-classification\")\n",
    "classifier(\n",
    "    \"This is a course about the Transformers library\",\n",
    "    candidate_labels=[\"education\", \"politics\", \"business\"],\n",
    ") "
   ]
  },
  {
   "cell_type": "markdown",
   "id": "c74d7279-0329-4c21-ada0-aea51b2d0ad3",
   "metadata": {},
   "source": [
    "This pipeline is called zero-shot because you don’t need to fine-tune the model on your data to use it. It can directly return probability scores for any list of labels you want!\n",
    "\n"
   ]
  },
  {
   "cell_type": "markdown",
   "id": "527abcac-ad56-44d0-b27f-a4c24fb2e571",
   "metadata": {},
   "source": [
    "## Text generation\n"
   ]
  },
  {
   "cell_type": "markdown",
   "id": "6f52aed1-e271-4524-8686-d217993f4a53",
   "metadata": {},
   "source": [
    "Now let’s see how to use a pipeline to generate some text. The main idea here is that you provide a prompt and the model will auto-complete it by generating the remaining text. This is similar to the predictive text feature that is found on many phones. Text generation involves randomness, so it’s normal if you don’t get the same results as shown below.\n",
    "\n"
   ]
  },
  {
   "cell_type": "code",
   "execution_count": 9,
   "id": "e0fd30b4-fa5d-404c-b14a-7fdb7a61e1d9",
   "metadata": {},
   "outputs": [
    {
     "name": "stderr",
     "output_type": "stream",
     "text": [
      "Setting `pad_token_id` to `eos_token_id`:50256 for open-end generation.\n"
     ]
    },
    {
     "data": {
      "text/plain": [
       "[{'generated_text': 'In this course, we will teach you how to create a custom webapp by hand using the following HTML5 styles defined in the app:\\n\\n{ \"styles\", \"app_name\": \"app_name\", \"components\": { \"'}]"
      ]
     },
     "execution_count": 9,
     "metadata": {},
     "output_type": "execute_result"
    }
   ],
   "source": [
    "from transformers import pipeline\n",
    "\n",
    "generator = pipeline(\"text-generation\")\n",
    "generator(\"In this course, we will teach you how to\")"
   ]
  },
  {
   "cell_type": "markdown",
   "id": "f7cab5c3-072d-44de-a6b9-adabfc6f71b9",
   "metadata": {},
   "source": [
    "You can control how many different sequences are generated with the argument num_return_sequences and the total length of the output text with the argument max_length.\n",
    "\n"
   ]
  },
  {
   "cell_type": "markdown",
   "id": "d71e0b46-ed44-4d61-a0ec-70b27dd06cb2",
   "metadata": {},
   "source": [
    "## Using any model from the Hub in a pipeline\n"
   ]
  },
  {
   "cell_type": "markdown",
   "id": "747a101b-89e1-4583-9228-d5452f96b246",
   "metadata": {},
   "source": [
    "The previous examples used the default model for the task at hand, but you can also choose a particular model from the Hub to use in a pipeline for a specific task — say, text generation. Go to the Model Hub and click on the corresponding tag on the left to display only the supported models for that task. You should get to a page like this one.\n",
    "\n",
    "Let’s try the distilgpt2 model! Here’s how to load it in the same pipeline as before:\n",
    "\n"
   ]
  },
  {
   "cell_type": "code",
   "execution_count": 10,
   "id": "5dd0eb82-e540-451b-be02-724affe76dcb",
   "metadata": {},
   "outputs": [
    {
     "name": "stderr",
     "output_type": "stream",
     "text": [
      "Setting `pad_token_id` to `eos_token_id`:50256 for open-end generation.\n"
     ]
    },
    {
     "data": {
      "text/plain": [
       "[{'generated_text': 'In this course, we will teach you how to create a series of classes, but we will focus on using the same framework as the next course.'},\n",
       " {'generated_text': 'In this course, we will teach you how to build a network, connect with everyone and learn how to use them effectively: https://www.youtube'}]"
      ]
     },
     "execution_count": 10,
     "metadata": {},
     "output_type": "execute_result"
    }
   ],
   "source": [
    "from transformers import pipeline\n",
    "\n",
    "generator = pipeline(\"text-generation\", model=\"distilgpt2\")\n",
    "generator(\n",
    "    \"In this course, we will teach you how to\",\n",
    "    max_length=30,\n",
    "    num_return_sequences=2,\n",
    ")"
   ]
  },
  {
   "cell_type": "markdown",
   "id": "37e2e614-99ba-4fdf-bdf6-44bb99981a5d",
   "metadata": {},
   "source": [
    "You can refine your search for a model by clicking on the language tags, and pick a model that will generate text in another language. The Model Hub even contains checkpoints for multilingual models that support several languages.\n",
    "\n",
    "Once you select a model by clicking on it, you’ll see that there is a widget enabling you to try it directly online. This way you can quickly test the model’s capabilities before downloading it."
   ]
  },
  {
   "cell_type": "markdown",
   "id": "c3a3035f-4976-4fc5-b836-fd5111542417",
   "metadata": {},
   "source": [
    "## The Inference API\n"
   ]
  },
  {
   "cell_type": "markdown",
   "id": "53debc52-cb42-432b-a40a-5817c3fe1d4e",
   "metadata": {},
   "source": [
    "All the models can be tested directly through your browser using the Inference API, which is available on the Hugging Face website. You can play with the model directly on this page by inputting custom text and watching the model process the input data.\n",
    "\n",
    "The Inference API that powers the widget is also available as a paid product, which comes in handy if you need it for your workflows. See the pricing page for more details."
   ]
  },
  {
   "cell_type": "markdown",
   "id": "7ac8cf23-f232-4e15-8826-8f9b2a02ce1f",
   "metadata": {},
   "source": [
    "## Mask filling\n"
   ]
  },
  {
   "cell_type": "markdown",
   "id": "ecd831a8-c07e-4e19-8b98-26c256749192",
   "metadata": {},
   "source": [
    "The next pipeline you’ll try is fill-mask. The idea of this task is to fill in the blanks in a given text:\n",
    "\n"
   ]
  },
  {
   "cell_type": "code",
   "execution_count": null,
   "id": "edce322b-888e-462b-8608-bf66ca19505f",
   "metadata": {},
   "outputs": [
    {
     "data": {
      "application/vnd.jupyter.widget-view+json": {
       "model_id": "c3c8f945bf184d9091446d0dd99f7ebe",
       "version_major": 2,
       "version_minor": 0
      },
      "text/plain": [
       "Downloading:   0%|          | 0.00/480 [00:00<?, ?B/s]"
      ]
     },
     "metadata": {},
     "output_type": "display_data"
    },
    {
     "data": {
      "application/vnd.jupyter.widget-view+json": {
       "model_id": "15f9c2d6a5d14701995dfbb1cad288c4",
       "version_major": 2,
       "version_minor": 0
      },
      "text/plain": [
       "Downloading:   0%|          | 0.00/331M [00:00<?, ?B/s]"
      ]
     },
     "metadata": {},
     "output_type": "display_data"
    }
   ],
   "source": [
    "from transformers import pipeline\n",
    "\n",
    "unmasker = pipeline(\"fill-mask\")\n",
    "unmasker(\"This course will teach you all about <mask> models.\", top_k=2)"
   ]
  },
  {
   "cell_type": "markdown",
   "id": "61b2989d-b5b7-4987-9653-f73b19a78e35",
   "metadata": {},
   "source": [
    "The top_k argument controls how many possibilities you want to be displayed. Note that here the model fills in the special <mask> word, which is often referred to as a mask token. Other mask-filling models might have different mask tokens, so it’s always good to verify the proper mask word when exploring other models. One way to check it is by looking at the mask word used in the widget.\n",
    "\n"
   ]
  },
  {
   "cell_type": "markdown",
   "id": "6ac8f91d-c663-487c-8717-2c630dc8909b",
   "metadata": {},
   "source": [
    "## Named entity recognition\n"
   ]
  },
  {
   "cell_type": "markdown",
   "id": "6a35e8d0-9d21-45f9-95d2-ab4345ed8307",
   "metadata": {},
   "source": [
    "Named entity recognition (NER) is a task where the model has to find which parts of the input text correspond to entities such as persons, locations, or organizations. Let’s look at an example:\n",
    "\n"
   ]
  },
  {
   "cell_type": "code",
   "execution_count": null,
   "id": "3a04b941-62f1-4b0f-bafd-b3033915f712",
   "metadata": {},
   "outputs": [],
   "source": [
    "from transformers import pipeline\n",
    "\n",
    "ner = pipeline(\"ner\", grouped_entities=True)\n",
    "ner(\"My name is Sylvain and I work at Hugging Face in Brooklyn.\")"
   ]
  },
  {
   "cell_type": "markdown",
   "id": "f753e61d-f3fa-4e51-9a55-bad6f10af868",
   "metadata": {},
   "source": [
    "Here the model correctly identified that Sylvain is a person (PER), Hugging Face an organization (ORG), and Brooklyn a location (LOC).\n",
    "\n"
   ]
  },
  {
   "cell_type": "markdown",
   "id": "71062d61-79e3-4228-964b-93fda7c9ff30",
   "metadata": {},
   "source": [
    "We pass the option grouped_entities=True in the pipeline creation function to tell the pipeline to regroup together the parts of the sentence that correspond to the same entity: here the model correctly grouped “Hugging” and “Face” as a single organization, even though the name consists of multiple words. In fact, as we will see in the next chapter, the preprocessing even splits some words into smaller parts. For instance, Sylvain is split into four pieces: S, ##yl, ##va, and ##in. In the post-processing step, the pipeline successfully regrouped those pieces.\n",
    "\n"
   ]
  },
  {
   "cell_type": "markdown",
   "id": "597bfbc8-0ff7-4cb7-835e-cb46b14c0605",
   "metadata": {},
   "source": [
    "## Question answering\n"
   ]
  },
  {
   "cell_type": "markdown",
   "id": "8dbb37bd-33b1-4c12-b560-c8524aed4be6",
   "metadata": {},
   "source": [
    "The question-answering pipeline answers questions using information from a given context:\n",
    "\n"
   ]
  },
  {
   "cell_type": "code",
   "execution_count": null,
   "id": "49480a42-e65a-4f50-b2fa-2f4fc82f3744",
   "metadata": {},
   "outputs": [],
   "source": [
    "from transformers import pipeline\n",
    "\n",
    "question_answerer = pipeline(\"question-answering\")\n",
    "question_answerer(\n",
    "    question=\"Where do I work?\",\n",
    "    context=\"My name is Sylvain and I work at Hugging Face in Brooklyn\"\n",
    ")"
   ]
  },
  {
   "cell_type": "markdown",
   "id": "56f3c7cf-06c5-41d0-abf2-21a9201cc185",
   "metadata": {},
   "source": [
    "Note that this pipeline works by extracting information from the provided context; it does not generate the answer.\n",
    "\n"
   ]
  },
  {
   "cell_type": "markdown",
   "id": "4e62d92b-15ce-43d9-9978-eb4b919168eb",
   "metadata": {},
   "source": [
    "## Summarization\n"
   ]
  },
  {
   "cell_type": "markdown",
   "id": "01d6f5c1-4eb1-4966-90ba-55affdcc6739",
   "metadata": {},
   "source": [
    "Summarization is the task of reducing a text into a shorter text while keeping all (or most) of the important aspects referenced in the text. Here’s an example:\n",
    "\n"
   ]
  },
  {
   "cell_type": "code",
   "execution_count": null,
   "id": "c2c9d533-2191-406e-9455-92f483ce4274",
   "metadata": {},
   "outputs": [],
   "source": [
    "from transformers import pipeline\n",
    "\n",
    "summarizer = pipeline(\"summarization\")\n",
    "summarizer(\"\"\"\n",
    "    America has changed dramatically during recent years. Not only has the number of \n",
    "    graduates in traditional engineering disciplines such as mechanical, civil, \n",
    "    electrical, chemical, and aeronautical engineering declined, but in most of \n",
    "    the premier American universities engineering curricula now concentrate on \n",
    "    and encourage largely the study of engineering science. As a result, there \n",
    "    are declining offerings in engineering subjects dealing with infrastructure, \n",
    "    the environment, and related issues, and greater concentration on high \n",
    "    technology subjects, largely supporting increasingly complex scientific \n",
    "    developments. While the latter is important, it should not be at the expense \n",
    "    of more traditional engineering.\n",
    "\n",
    "    Rapidly developing economies such as China and India, as well as other \n",
    "    industrial countries in Europe and Asia, continue to encourage and advance \n",
    "    the teaching of engineering. Both China and India, respectively, graduate \n",
    "    six and eight times as many traditional engineers as does the United States. \n",
    "    Other industrial countries at minimum maintain their output, while America \n",
    "    suffers an increasingly serious decline in the number of engineering graduates \n",
    "    and a lack of well-educated engineers.\n",
    "\"\"\")\n"
   ]
  },
  {
   "cell_type": "markdown",
   "id": "d14160ca-b7fc-424f-9ca6-30c9db5e4370",
   "metadata": {},
   "source": [
    "Like with text generation, you can specify a max_length or a min_length for the result.\n",
    "\n"
   ]
  },
  {
   "cell_type": "markdown",
   "id": "ff4b6606-af9f-49ba-abb6-35ef63105050",
   "metadata": {},
   "source": [
    "## Translation\n"
   ]
  },
  {
   "cell_type": "markdown",
   "id": "d547a069-36eb-457e-965d-4aa8e36fb50a",
   "metadata": {},
   "source": [
    "For translation, you can use a default model if you provide a language pair in the task name (such as \"translation_en_to_fr\"), but the easiest way is to pick the model you want to use on the Model Hub. Here we’ll try translating from French to English:\n",
    "\n"
   ]
  },
  {
   "cell_type": "code",
   "execution_count": null,
   "id": "624ac46e-c0ac-4f1a-bfef-70cbafaf40b1",
   "metadata": {},
   "outputs": [],
   "source": [
    "from transformers import pipeline\n",
    "\n",
    "translator = pipeline(\"translation\", model=\"Helsinki-NLP/opus-mt-fr-en\")\n",
    "translator(\"Ce cours est produit par Hugging Face.\")\n"
   ]
  },
  {
   "cell_type": "markdown",
   "id": "8bef1bf6-1d69-4e7f-a256-890657ef8113",
   "metadata": {},
   "source": [
    "Like with text generation and summarization, you can specify a max_length or a min_length for the result."
   ]
  },
  {
   "cell_type": "markdown",
   "id": "6a0d4e3a-c240-4d21-a125-07ac73575936",
   "metadata": {},
   "source": [
    "The pipelines shown so far are mostly for demonstrative purposes. They were programmed for specific tasks and cannot perform variations of them. In the next chapter, you’ll learn what’s inside a pipeline and how to customize its behavior."
   ]
  },
  {
   "cell_type": "code",
   "execution_count": null,
   "id": "6aa3c8a3-9b43-4ec6-bd81-2713087982a6",
   "metadata": {},
   "outputs": [],
   "source": []
  }
 ],
 "metadata": {
  "kernelspec": {
   "display_name": "Python 3",
   "language": "python",
   "name": "python3"
  },
  "language_info": {
   "codemirror_mode": {
    "name": "ipython",
    "version": 3
   },
   "file_extension": ".py",
   "mimetype": "text/x-python",
   "name": "python",
   "nbconvert_exporter": "python",
   "pygments_lexer": "ipython3",
   "version": "3.8.5"
  }
 },
 "nbformat": 4,
 "nbformat_minor": 5
}
